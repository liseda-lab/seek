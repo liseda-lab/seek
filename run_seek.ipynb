{
 "cells": [
  {
   "cell_type": "code",
   "execution_count": null,
   "metadata": {},
   "outputs": [],
   "source": [
    "# Install packages\n",
    "!pip install rdflib==7.0.0\n",
    "!pip install networkx==3.2.1\n",
    "!pip install gensim==4.3.2\n",
    "!pip install numpy==2.0.0\n",
    "!pip install sklearn==0.0\n",
    "!pip install scikit-learn==1.5.1\n",
    "!pip install xgboost==2.1.0\n",
    "!pip install pandas==2.2.2\n",
    "!pip install seaborn==0.13.2\n",
    "!pip install matplotlib==3.9.1\n",
    "!pip install scipy==1.12"
   ]
  },
  {
   "cell_type": "code",
   "execution_count": null,
   "metadata": {},
   "outputs": [],
   "source": [
    "# Importing necessary python files\n",
    "from build_kg import run_save_graph\n",
    "from train_embedding_model import compute_embeddings_classes\n",
    "from generate_pair_representations import run_PairEmbeddings\n",
    "from train_ml import run_ml_model\n",
    "from generate_seek_explanation import getExplanations"
   ]
  },
  {
   "cell_type": "code",
   "execution_count": null,
   "metadata": {},
   "outputs": [],
   "source": [
    "# Define input files and parameters\n",
    "ontology_file_path = \"./PPI/go.owl\" \n",
    "annotations_file_path = \"./PPI/go_annotations.gaf\"\n",
    "path_partition = \"./PPI/StratifiedPartitions/Indexes__crossvalidationTest__Run\"\n",
    "path_dataset_file = \"./PPI/STRING_pairs.txt\"\n",
    "dataset_type = \"PPI\"\n",
    "n_partition = 10 \n",
    "\n",
    "# Define where output files will be saved\n",
    "path_graph = \"./PPI/KG.gpickle\"\n",
    "path_label_classes = \"./PPI/Labelclasses.pkl\"\n",
    "path_embedding_classes = \"./PPI/Embeddings/Emb_classes_maxdepth4_nwalks100.txt\"\n",
    "path_representations_file = \"./PPI/Embeddings/Emb_pair_maxdepth4_nwalks100_Avg_disjointcommonancestor.txt\"\n",
    "path_ML_model = \"./PPI/Models/RF/\"\n",
    "path_explanations = \"./PPI/Explanations/\""
   ]
  },
  {
   "cell_type": "code",
   "execution_count": null,
   "metadata": {},
   "outputs": [],
   "source": [
    "# Generating knowledge graph\n",
    "run_save_graph(ontology_file_path, annotations_file_path, path_graph, path_label_classes, dataset_type)"
   ]
  },
  {
   "cell_type": "code",
   "execution_count": null,
   "metadata": {},
   "outputs": [],
   "source": [
    "# Training embedding model to generate embeddings for ontology classes\n",
    "vector_size = 100 \n",
    "n_walks = 100\n",
    "max_depth = 4\n",
    "compute_embeddings_classes(ontology_file_path, path_embedding_classes, vector_size, n_walks, max_depth)"
   ]
  },
  {
   "cell_type": "code",
   "execution_count": null,
   "metadata": {},
   "outputs": [],
   "source": [
    "# Generating pair representations based on the disjoint common ancestors\n",
    "run_PairEmbeddings(path_embedding_classes, path_representations_file, path_graph, path_dataset_file, vector_size)"
   ]
  },
  {
   "cell_type": "code",
   "execution_count": null,
   "metadata": {},
   "outputs": [],
   "source": [
    "# Training the ML model\n",
    "alg = \"RF\"\n",
    "run_ml_model(path_representations_file, path_dataset_file, n_partition, path_partition, alg, path_ML_model)"
   ]
  },
  {
   "cell_type": "code",
   "execution_count": null,
   "metadata": {},
   "outputs": [],
   "source": [
    "# Generating SEEK explanations\n",
    "target_pair = ('P25789', 'P17980')\n",
    "getExplanations(path_graph, path_label_classes, path_embedding_classes, target_pair, alg, path_ML_model + \"Model_\" + alg + \"_1.pickle\", path_explanations)"
   ]
  }
 ],
 "metadata": {
  "kernelspec": {
   "display_name": "Python 3",
   "language": "python",
   "name": "python3"
  },
  "language_info": {
   "name": "python",
   "version": "3.9.7"
  }
 },
 "nbformat": 4,
 "nbformat_minor": 2
}
